{
 "cells": [
  {
   "cell_type": "markdown",
   "id": "c724831a-8cb3-4a68-9dd0-f6f3b0dd5447",
   "metadata": {},
   "source": [
    "# Student Survey Analysis I"
   ]
  },
  {
   "cell_type": "markdown",
   "id": "1f65dad0-ff6d-4c93-82d3-6d73fdef12a7",
   "metadata": {},
   "source": [
    "Author: Nicholas Czipo\n",
    "\n",
    "Date: 07/22/2025"
   ]
  },
  {
   "cell_type": "markdown",
   "id": "fae26d39-ce47-4c55-9fb5-40433530cf41",
   "metadata": {},
   "source": [
    "## I. Project Overview"
   ]
  },
  {
   "cell_type": "markdown",
   "id": "da77f9c4-83e4-4d55-841a-625394903abf",
   "metadata": {},
   "source": [
    "The purpose of this project is to analyze non-computing major student survey results at the County College of Morris from the year 2024. All students who take the survey are enrolled in an introductory computing course at the time. The goal is to identify traits among students that best track with a further willingness to take computing courses. More specifically, I will explore the following questions:\n",
    "\n",
    "*1.) Is there a pattern among the demographics (gender, race/ethnicity, age) of students who are currently enrolled in an introductory computer course? For example, are computing courses most popular with young white males ?*\n",
    "\n",
    "*2.) Is there an intro to computing class that seems to generate further willingness to take classes in the future more than others?*\n",
    "\n",
    "*3.) Is there a relationship between student major and a willingness to take more computer science classes. In other words, do some majors tend to display a greater degree of interest in computer science.*\n",
    "\n",
    "*4.)Is there a type of class students would like to learn more about more than others? Perhpaps AI more than app development, for example.*\n",
    "\n",
    "\n"
   ]
  },
  {
   "cell_type": "markdown",
   "id": "1aac6f49-a395-4152-a78a-fa943f010532",
   "metadata": {},
   "source": [
    "## II. Data Cleaning "
   ]
  },
  {
   "cell_type": "markdown",
   "id": "69f8afb6-b3e2-4fba-a084-69e9d7228f8a",
   "metadata": {},
   "source": [
    "We begin our data cleaning by importing the necessary data analysis modules along with the survey results dataset."
   ]
  },
  {
   "cell_type": "code",
   "execution_count": 75,
   "id": "f24191bd-c6e1-4088-8f80-352b41be5db5",
   "metadata": {},
   "outputs": [],
   "source": [
    "import pandas as pd\n",
    "import numpy as np\n",
    "%matplotlib inline\n",
    "from matplotlib import style\n",
    "import matplotlib.pyplot as plt\n",
    "import seaborn as sns\n",
    "\n",
    "survey_2024 = pd.read_csv(\"Student Survey Results 2024.csv\")"
   ]
  },
  {
   "cell_type": "markdown",
   "id": "4acc2a5e-b7f5-4965-8c2b-b6eeded0a13f",
   "metadata": {},
   "source": [
    "Before we begin any serious data cleaning, let's familiarize ourselves with the dataset."
   ]
  },
  {
   "cell_type": "code",
   "execution_count": 76,
   "id": "fca8308b-5abc-4138-a2a4-757e5f079f3e",
   "metadata": {},
   "outputs": [
    {
     "data": {
      "text/plain": [
       "(92, 71)"
      ]
     },
     "execution_count": 76,
     "metadata": {},
     "output_type": "execute_result"
    }
   ],
   "source": [
    "survey_2024.shape"
   ]
  },
  {
   "cell_type": "markdown",
   "id": "cb122a9c-c890-44d1-aaea-6efb8b338726",
   "metadata": {},
   "source": [
    "We see our data contains 92 records and 71 columns. We can view the first few records by calling `survey_2024.head()`"
   ]
  },
  {
   "cell_type": "code",
   "execution_count": 77,
   "id": "9c47f9c3-eb7d-4704-b0cc-1b55084c23e5",
   "metadata": {},
   "outputs": [
    {
     "data": {
      "text/html": [
       "<div>\n",
       "<style scoped>\n",
       "    .dataframe tbody tr th:only-of-type {\n",
       "        vertical-align: middle;\n",
       "    }\n",
       "\n",
       "    .dataframe tbody tr th {\n",
       "        vertical-align: top;\n",
       "    }\n",
       "\n",
       "    .dataframe thead th {\n",
       "        text-align: right;\n",
       "    }\n",
       "</style>\n",
       "<table border=\"1\" class=\"dataframe\">\n",
       "  <thead>\n",
       "    <tr style=\"text-align: right;\">\n",
       "      <th></th>\n",
       "      <th>Timestamp</th>\n",
       "      <th>Which course are you currently enrolled in?</th>\n",
       "      <th>What motivated you to seek a computing class at CCM? [It’s a required class for the degree I’m seeking]</th>\n",
       "      <th>What motivated you to seek a computing class at CCM? [To keep current in computing skills]</th>\n",
       "      <th>What motivated you to seek a computing class at CCM? [Career Advancement]</th>\n",
       "      <th>What motivated you to seek a computing class at CCM? [Career Change]</th>\n",
       "      <th>What motivated you to seek a computing class at CCM? [Professional Development]</th>\n",
       "      <th>What motivated you to seek a computing class at CCM? [Job Displacement]</th>\n",
       "      <th>What motivated you to seek a computing class at CCM? [Relocation]</th>\n",
       "      <th>What motivated you to seek a computing class at CCM? [IT Industry Certifications]</th>\n",
       "      <th>...</th>\n",
       "      <th>If you answered that you were interested in taking more computing classes, which ones interest you most? [CyberSecurity]</th>\n",
       "      <th>If you answered that you were interested in taking more computing classes, which ones interest you most? [App Development]</th>\n",
       "      <th>If you answered that you were interested in taking more computing classes, which ones interest you most? [Data Analytics]</th>\n",
       "      <th>If you answered that you were interested in taking more computing classes, which ones interest you most? [Machine Learning/Artificial Intelligence]</th>\n",
       "      <th>If you answered that you were interested in taking more computing classes, which ones interest you most? [Computer Programming]</th>\n",
       "      <th>If you answered that you were interested in taking more computing classes, which ones interest you most? [Game Design]</th>\n",
       "      <th>If you answered that you were interested in taking more computing classes, which ones interest you most? [Hardware Installation &amp; Repair]</th>\n",
       "      <th>Gender</th>\n",
       "      <th>Race/ethnicity</th>\n",
       "      <th>Age</th>\n",
       "    </tr>\n",
       "  </thead>\n",
       "  <tbody>\n",
       "    <tr>\n",
       "      <th>0</th>\n",
       "      <td>2024/09/10 10:47:35 AM AST</td>\n",
       "      <td>CMP 126 Computer Technology and Applications</td>\n",
       "      <td>No</td>\n",
       "      <td>Yes</td>\n",
       "      <td>Yes</td>\n",
       "      <td>Yes</td>\n",
       "      <td>Yes</td>\n",
       "      <td>No</td>\n",
       "      <td>No</td>\n",
       "      <td>No</td>\n",
       "      <td>...</td>\n",
       "      <td>Yes</td>\n",
       "      <td>No</td>\n",
       "      <td>No</td>\n",
       "      <td>No</td>\n",
       "      <td>No</td>\n",
       "      <td>No</td>\n",
       "      <td>No</td>\n",
       "      <td>Prefer not to say</td>\n",
       "      <td>Hispanic or Latino;Black/African American;Whit...</td>\n",
       "      <td>19-20</td>\n",
       "    </tr>\n",
       "    <tr>\n",
       "      <th>1</th>\n",
       "      <td>2024/09/10 11:00:05 AM AST</td>\n",
       "      <td>CMP 126 Computer Technology and Applications</td>\n",
       "      <td>Yes</td>\n",
       "      <td>Yes</td>\n",
       "      <td>Yes</td>\n",
       "      <td>No</td>\n",
       "      <td>Yes</td>\n",
       "      <td>Yes</td>\n",
       "      <td>No</td>\n",
       "      <td>No</td>\n",
       "      <td>...</td>\n",
       "      <td>Yes</td>\n",
       "      <td>Yes</td>\n",
       "      <td>Yes</td>\n",
       "      <td>Yes</td>\n",
       "      <td>Yes</td>\n",
       "      <td>No</td>\n",
       "      <td>No</td>\n",
       "      <td>Woman</td>\n",
       "      <td>Hispanic or Latino</td>\n",
       "      <td>19-20</td>\n",
       "    </tr>\n",
       "    <tr>\n",
       "      <th>2</th>\n",
       "      <td>2024/09/10 11:02:51 AM AST</td>\n",
       "      <td>CMP 126 Computer Technology and Applications</td>\n",
       "      <td>Yes</td>\n",
       "      <td>Yes</td>\n",
       "      <td>Yes</td>\n",
       "      <td>Yes</td>\n",
       "      <td>Yes</td>\n",
       "      <td>Yes</td>\n",
       "      <td>Yes</td>\n",
       "      <td>No</td>\n",
       "      <td>...</td>\n",
       "      <td>No</td>\n",
       "      <td>Yes</td>\n",
       "      <td>No</td>\n",
       "      <td>Yes</td>\n",
       "      <td>Yes</td>\n",
       "      <td>Yes</td>\n",
       "      <td>Yes</td>\n",
       "      <td>Man</td>\n",
       "      <td>Choose not to reply</td>\n",
       "      <td>18 and younger</td>\n",
       "    </tr>\n",
       "    <tr>\n",
       "      <th>3</th>\n",
       "      <td>2024/09/10 11:05:25 AM AST</td>\n",
       "      <td>CMP 126 Computer Technology and Applications</td>\n",
       "      <td>No</td>\n",
       "      <td>Yes</td>\n",
       "      <td>No</td>\n",
       "      <td>No</td>\n",
       "      <td>No</td>\n",
       "      <td>No</td>\n",
       "      <td>No</td>\n",
       "      <td>No</td>\n",
       "      <td>...</td>\n",
       "      <td>No</td>\n",
       "      <td>No</td>\n",
       "      <td>Yes</td>\n",
       "      <td>No</td>\n",
       "      <td>No</td>\n",
       "      <td>Yes</td>\n",
       "      <td>No</td>\n",
       "      <td>Man</td>\n",
       "      <td>Hispanic or Latino</td>\n",
       "      <td>19-20</td>\n",
       "    </tr>\n",
       "    <tr>\n",
       "      <th>4</th>\n",
       "      <td>2024/09/10 8:37:36 PM AST</td>\n",
       "      <td>CMP 101 Computer Information Literacy</td>\n",
       "      <td>Yes</td>\n",
       "      <td>Yes</td>\n",
       "      <td>Yes</td>\n",
       "      <td>No</td>\n",
       "      <td>Yes</td>\n",
       "      <td>No</td>\n",
       "      <td>No</td>\n",
       "      <td>No</td>\n",
       "      <td>...</td>\n",
       "      <td>No</td>\n",
       "      <td>No</td>\n",
       "      <td>No</td>\n",
       "      <td>No</td>\n",
       "      <td>No</td>\n",
       "      <td>No</td>\n",
       "      <td>No</td>\n",
       "      <td>Woman</td>\n",
       "      <td>White/Caucasian</td>\n",
       "      <td>19-20</td>\n",
       "    </tr>\n",
       "  </tbody>\n",
       "</table>\n",
       "<p>5 rows × 71 columns</p>\n",
       "</div>"
      ],
      "text/plain": [
       "                    Timestamp   Which course are you currently enrolled in?  \\\n",
       "0  2024/09/10 10:47:35 AM AST  CMP 126 Computer Technology and Applications   \n",
       "1  2024/09/10 11:00:05 AM AST  CMP 126 Computer Technology and Applications   \n",
       "2  2024/09/10 11:02:51 AM AST  CMP 126 Computer Technology and Applications   \n",
       "3  2024/09/10 11:05:25 AM AST  CMP 126 Computer Technology and Applications   \n",
       "4   2024/09/10 8:37:36 PM AST         CMP 101 Computer Information Literacy   \n",
       "\n",
       "  What motivated you to seek a computing class at CCM? [It’s a required class for the degree I’m seeking]  \\\n",
       "0                                                 No                                                        \n",
       "1                                                Yes                                                        \n",
       "2                                                Yes                                                        \n",
       "3                                                 No                                                        \n",
       "4                                                Yes                                                        \n",
       "\n",
       "  What motivated you to seek a computing class at CCM? [To keep current in computing skills]  \\\n",
       "0                                                Yes                                           \n",
       "1                                                Yes                                           \n",
       "2                                                Yes                                           \n",
       "3                                                Yes                                           \n",
       "4                                                Yes                                           \n",
       "\n",
       "  What motivated you to seek a computing class at CCM? [Career Advancement]  \\\n",
       "0                                                Yes                          \n",
       "1                                                Yes                          \n",
       "2                                                Yes                          \n",
       "3                                                 No                          \n",
       "4                                                Yes                          \n",
       "\n",
       "  What motivated you to seek a computing class at CCM? [Career Change]  \\\n",
       "0                                                Yes                     \n",
       "1                                                 No                     \n",
       "2                                                Yes                     \n",
       "3                                                 No                     \n",
       "4                                                 No                     \n",
       "\n",
       "  What motivated you to seek a computing class at CCM? [Professional Development]  \\\n",
       "0                                                Yes                                \n",
       "1                                                Yes                                \n",
       "2                                                Yes                                \n",
       "3                                                 No                                \n",
       "4                                                Yes                                \n",
       "\n",
       "  What motivated you to seek a computing class at CCM? [Job Displacement]  \\\n",
       "0                                                 No                        \n",
       "1                                                Yes                        \n",
       "2                                                Yes                        \n",
       "3                                                 No                        \n",
       "4                                                 No                        \n",
       "\n",
       "  What motivated you to seek a computing class at CCM? [Relocation]  \\\n",
       "0                                                 No                  \n",
       "1                                                 No                  \n",
       "2                                                Yes                  \n",
       "3                                                 No                  \n",
       "4                                                 No                  \n",
       "\n",
       "  What motivated you to seek a computing class at CCM? [IT Industry Certifications]  \\\n",
       "0                                                 No                                  \n",
       "1                                                 No                                  \n",
       "2                                                 No                                  \n",
       "3                                                 No                                  \n",
       "4                                                 No                                  \n",
       "\n",
       "   ...  \\\n",
       "0  ...   \n",
       "1  ...   \n",
       "2  ...   \n",
       "3  ...   \n",
       "4  ...   \n",
       "\n",
       "  If you answered that you were interested in taking more computing classes, which ones interest you most? [CyberSecurity]  \\\n",
       "0                                                Yes                                                                         \n",
       "1                                                Yes                                                                         \n",
       "2                                                 No                                                                         \n",
       "3                                                 No                                                                         \n",
       "4                                                 No                                                                         \n",
       "\n",
       "  If you answered that you were interested in taking more computing classes, which ones interest you most? [App Development]  \\\n",
       "0                                                 No                                                                           \n",
       "1                                                Yes                                                                           \n",
       "2                                                Yes                                                                           \n",
       "3                                                 No                                                                           \n",
       "4                                                 No                                                                           \n",
       "\n",
       "  If you answered that you were interested in taking more computing classes, which ones interest you most? [Data Analytics]  \\\n",
       "0                                                 No                                                                          \n",
       "1                                                Yes                                                                          \n",
       "2                                                 No                                                                          \n",
       "3                                                Yes                                                                          \n",
       "4                                                 No                                                                          \n",
       "\n",
       "  If you answered that you were interested in taking more computing classes, which ones interest you most? [Machine Learning/Artificial Intelligence]  \\\n",
       "0                                                 No                                                                                                    \n",
       "1                                                Yes                                                                                                    \n",
       "2                                                Yes                                                                                                    \n",
       "3                                                 No                                                                                                    \n",
       "4                                                 No                                                                                                    \n",
       "\n",
       "  If you answered that you were interested in taking more computing classes, which ones interest you most? [Computer Programming]  \\\n",
       "0                                                 No                                                                                \n",
       "1                                                Yes                                                                                \n",
       "2                                                Yes                                                                                \n",
       "3                                                 No                                                                                \n",
       "4                                                 No                                                                                \n",
       "\n",
       "  If you answered that you were interested in taking more computing classes, which ones interest you most? [Game Design]  \\\n",
       "0                                                 No                                                                       \n",
       "1                                                 No                                                                       \n",
       "2                                                Yes                                                                       \n",
       "3                                                Yes                                                                       \n",
       "4                                                 No                                                                       \n",
       "\n",
       "  If you answered that you were interested in taking more computing classes, which ones interest you most? [Hardware Installation & Repair]  \\\n",
       "0                                                 No                                                                                          \n",
       "1                                                 No                                                                                          \n",
       "2                                                Yes                                                                                          \n",
       "3                                                 No                                                                                          \n",
       "4                                                 No                                                                                          \n",
       "\n",
       "              Gender                                     Race/ethnicity  \\\n",
       "0  Prefer not to say  Hispanic or Latino;Black/African American;Whit...   \n",
       "1              Woman                                 Hispanic or Latino   \n",
       "2                Man                                Choose not to reply   \n",
       "3                Man                                 Hispanic or Latino   \n",
       "4              Woman                                    White/Caucasian   \n",
       "\n",
       "             Age   \n",
       "0           19-20  \n",
       "1           19-20  \n",
       "2  18 and younger  \n",
       "3           19-20  \n",
       "4           19-20  \n",
       "\n",
       "[5 rows x 71 columns]"
      ]
     },
     "execution_count": 77,
     "metadata": {},
     "output_type": "execute_result"
    }
   ],
   "source": [
    "survey_2024.head()"
   ]
  },
  {
   "cell_type": "markdown",
   "id": "ee18b57f-bf1a-42f1-815a-35470d2cb305",
   "metadata": {},
   "source": [
    "The above only returns a handful of the 71 columns. Note that several columns pertain to the different replies a student may choose for an individual question. For example, consider the question: *What motivated you to seek a computing course at CCM?*\n",
    "\n",
    "In response, a student may select the following: it's a required class, to keep current in computing skills, career advancement, career change, professional development, job displacement, CCM relocation, IT industry certifications. Therefore, nine columns are dedicated to one question. \n",
    "\n",
    "Let's begin our data cleaning by first checking for duplicate rows. Then we can delete the columns we won't be using."
   ]
  },
  {
   "cell_type": "code",
   "execution_count": 78,
   "id": "14d8e623-9385-4265-9df0-c2034ada35c3",
   "metadata": {},
   "outputs": [
    {
     "data": {
      "text/plain": [
       "(92, 71)"
      ]
     },
     "execution_count": 78,
     "metadata": {},
     "output_type": "execute_result"
    }
   ],
   "source": [
    "survey_2024.drop_duplicates(keep = \"first\", inplace = True)\n",
    "survey_2024.shape"
   ]
  },
  {
   "cell_type": "markdown",
   "id": "106e70ad-d6e9-4b4d-98db-583011876f57",
   "metadata": {},
   "source": [
    "As we can see by `survey_2024.shape`, there are no duplicates."
   ]
  },
  {
   "cell_type": "markdown",
   "id": "3015c180-c109-4f95-8a2c-864d9a8c90cd",
   "metadata": {},
   "source": [
    "The following code will drop the timestap column along with the columns pertaining to the questions:"
   ]
  },
  {
   "cell_type": "markdown",
   "id": "57473e0d-919c-4b2a-a99f-2f61633c57c1",
   "metadata": {},
   "source": [
    "\n",
    "*Prior applying to college, did you participate in any of the following events at CCM and/or with the Department of Information Technologies?*\n",
    "\n",
    "*To what extent did the following activities or experience impact your decision to enroll in a computing class at CCM?*\n",
    "\n",
    "*How did you hear about CCM?*\n",
    "\n",
    "*To what extent did the following impact your decision to attent CCM?*"
   ]
  },
  {
   "cell_type": "code",
   "execution_count": 79,
   "id": "cfa3ef21-ea1f-4b59-9c45-73a2d132f77a",
   "metadata": {},
   "outputs": [],
   "source": [
    "drop0 = [0]\n",
    "drop1 = [i for i in range(13,52)]\n",
    "drop2 = [i for i in range(53,59)]\n",
    "to_drop = drop0 + drop1 + drop2\n",
    "survey_2024 = survey_2024.drop(survey_2024.columns[to_drop], axis = 1)"
   ]
  },
  {
   "cell_type": "markdown",
   "id": "1db2b877-2603-4e07-b1a5-2e8f2b71dc13",
   "metadata": {},
   "source": [
    "Now lets review the shape of our updated dataset."
   ]
  },
  {
   "cell_type": "code",
   "execution_count": 80,
   "id": "d4c4ae19-add4-4068-b140-41fc005229b2",
   "metadata": {},
   "outputs": [
    {
     "data": {
      "text/plain": [
       "(92, 25)"
      ]
     },
     "execution_count": 80,
     "metadata": {},
     "output_type": "execute_result"
    }
   ],
   "source": [
    "survey_2024.shape"
   ]
  },
  {
   "cell_type": "markdown",
   "id": "6a972aac-ba53-4105-97f6-584ad23db163",
   "metadata": {},
   "source": [
    "We now have 25 columns instead of 71. Let's rename the columns for increased simplicity."
   ]
  },
  {
   "cell_type": "code",
   "execution_count": 81,
   "id": "b97b2cce-6f1b-4e8b-b7de-886e187ec993",
   "metadata": {},
   "outputs": [],
   "source": [
    "survey_2024 = survey_2024.rename(columns = {\n",
    "                                                survey_2024.columns[0]: \"currently_enrolled\", \n",
    "                                                survey_2024.columns[1]: \"motivation_required\",\n",
    "                                                survey_2024.columns[2]: \"motivation_keepCurrent\",\n",
    "                                                survey_2024.columns[3]: \"motivation_careerAdvancement\",\n",
    "                                                survey_2024.columns[4]: \"motivation_careerChange\",\n",
    "                                                survey_2024.columns[5]: \"motivation_development\",\n",
    "                                                survey_2024.columns[6]: \"motivation_jobDisplace\",\n",
    "                                                survey_2024.columns[7]: \"motivation_relocation\",\n",
    "                                                survey_2024.columns[8]: \"motivation_certification\",\n",
    "                                                survey_2024.columns[9]: \"motivation_financial\",\n",
    "                                                survey_2024.columns[10]: \"motivation_enrichment\",\n",
    "                                                survey_2024.columns[11]: \"motivation_curiosity\",\n",
    "                                                survey_2024.columns[12]: \"major\",\n",
    "                                                survey_2024.columns[13]: \"future_interest\",\n",
    "                                                survey_2024.columns[14]: \"class_webDevelopment\",\n",
    "                                                survey_2024.columns[15]: \"class_cyberSecurity\",\n",
    "                                                survey_2024.columns[16]: \"class_appDevelopment\",\n",
    "                                                survey_2024.columns[17]: \"class_dataAnalytics\",\n",
    "                                                survey_2024.columns[18]: \"class_AI\",\n",
    "                                                survey_2024.columns[19]: \"class_programming\",\n",
    "                                                survey_2024.columns[20]: \"class_gameDesign\",\n",
    "                                                survey_2024.columns[21]: \"class_hardware\",\n",
    "                                                survey_2024.columns[22]: \"gender\",\n",
    "                                                survey_2024.columns[23]: \"race_or_ethnicity\",\n",
    "                                                survey_2024.columns[24]: \"age\"\n",
    "                                           }\n",
    "                                  )"
   ]
  },
  {
   "cell_type": "markdown",
   "id": "115e84d6-ead1-43e8-9f49-d58fa28e9ae6",
   "metadata": {},
   "source": [
    "Calling `survey_2024.head()` displays our refined dataset"
   ]
  },
  {
   "cell_type": "code",
   "execution_count": 82,
   "id": "49e46710-647f-4753-b22e-f3f01ea1c491",
   "metadata": {},
   "outputs": [
    {
     "data": {
      "text/html": [
       "<div>\n",
       "<style scoped>\n",
       "    .dataframe tbody tr th:only-of-type {\n",
       "        vertical-align: middle;\n",
       "    }\n",
       "\n",
       "    .dataframe tbody tr th {\n",
       "        vertical-align: top;\n",
       "    }\n",
       "\n",
       "    .dataframe thead th {\n",
       "        text-align: right;\n",
       "    }\n",
       "</style>\n",
       "<table border=\"1\" class=\"dataframe\">\n",
       "  <thead>\n",
       "    <tr style=\"text-align: right;\">\n",
       "      <th></th>\n",
       "      <th>currently_enrolled</th>\n",
       "      <th>motivation_required</th>\n",
       "      <th>motivation_keepCurrent</th>\n",
       "      <th>motivation_careerAdvancement</th>\n",
       "      <th>motivation_careerChange</th>\n",
       "      <th>motivation_development</th>\n",
       "      <th>motivation_jobDisplace</th>\n",
       "      <th>motivation_relocation</th>\n",
       "      <th>motivation_certification</th>\n",
       "      <th>motivation_financial</th>\n",
       "      <th>...</th>\n",
       "      <th>class_cyberSecurity</th>\n",
       "      <th>class_appDevelopment</th>\n",
       "      <th>class_dataAnalytics</th>\n",
       "      <th>class_AI</th>\n",
       "      <th>class_programming</th>\n",
       "      <th>class_gameDesign</th>\n",
       "      <th>class_hardware</th>\n",
       "      <th>gender</th>\n",
       "      <th>race_or_ethnicity</th>\n",
       "      <th>age</th>\n",
       "    </tr>\n",
       "  </thead>\n",
       "  <tbody>\n",
       "    <tr>\n",
       "      <th>0</th>\n",
       "      <td>CMP 126 Computer Technology and Applications</td>\n",
       "      <td>No</td>\n",
       "      <td>Yes</td>\n",
       "      <td>Yes</td>\n",
       "      <td>Yes</td>\n",
       "      <td>Yes</td>\n",
       "      <td>No</td>\n",
       "      <td>No</td>\n",
       "      <td>No</td>\n",
       "      <td>Yes</td>\n",
       "      <td>...</td>\n",
       "      <td>Yes</td>\n",
       "      <td>No</td>\n",
       "      <td>No</td>\n",
       "      <td>No</td>\n",
       "      <td>No</td>\n",
       "      <td>No</td>\n",
       "      <td>No</td>\n",
       "      <td>Prefer not to say</td>\n",
       "      <td>Hispanic or Latino;Black/African American;Whit...</td>\n",
       "      <td>19-20</td>\n",
       "    </tr>\n",
       "    <tr>\n",
       "      <th>1</th>\n",
       "      <td>CMP 126 Computer Technology and Applications</td>\n",
       "      <td>Yes</td>\n",
       "      <td>Yes</td>\n",
       "      <td>Yes</td>\n",
       "      <td>No</td>\n",
       "      <td>Yes</td>\n",
       "      <td>Yes</td>\n",
       "      <td>No</td>\n",
       "      <td>No</td>\n",
       "      <td>Yes</td>\n",
       "      <td>...</td>\n",
       "      <td>Yes</td>\n",
       "      <td>Yes</td>\n",
       "      <td>Yes</td>\n",
       "      <td>Yes</td>\n",
       "      <td>Yes</td>\n",
       "      <td>No</td>\n",
       "      <td>No</td>\n",
       "      <td>Woman</td>\n",
       "      <td>Hispanic or Latino</td>\n",
       "      <td>19-20</td>\n",
       "    </tr>\n",
       "    <tr>\n",
       "      <th>2</th>\n",
       "      <td>CMP 126 Computer Technology and Applications</td>\n",
       "      <td>Yes</td>\n",
       "      <td>Yes</td>\n",
       "      <td>Yes</td>\n",
       "      <td>Yes</td>\n",
       "      <td>Yes</td>\n",
       "      <td>Yes</td>\n",
       "      <td>Yes</td>\n",
       "      <td>No</td>\n",
       "      <td>Yes</td>\n",
       "      <td>...</td>\n",
       "      <td>No</td>\n",
       "      <td>Yes</td>\n",
       "      <td>No</td>\n",
       "      <td>Yes</td>\n",
       "      <td>Yes</td>\n",
       "      <td>Yes</td>\n",
       "      <td>Yes</td>\n",
       "      <td>Man</td>\n",
       "      <td>Choose not to reply</td>\n",
       "      <td>18 and younger</td>\n",
       "    </tr>\n",
       "    <tr>\n",
       "      <th>3</th>\n",
       "      <td>CMP 126 Computer Technology and Applications</td>\n",
       "      <td>No</td>\n",
       "      <td>Yes</td>\n",
       "      <td>No</td>\n",
       "      <td>No</td>\n",
       "      <td>No</td>\n",
       "      <td>No</td>\n",
       "      <td>No</td>\n",
       "      <td>No</td>\n",
       "      <td>No</td>\n",
       "      <td>...</td>\n",
       "      <td>No</td>\n",
       "      <td>No</td>\n",
       "      <td>Yes</td>\n",
       "      <td>No</td>\n",
       "      <td>No</td>\n",
       "      <td>Yes</td>\n",
       "      <td>No</td>\n",
       "      <td>Man</td>\n",
       "      <td>Hispanic or Latino</td>\n",
       "      <td>19-20</td>\n",
       "    </tr>\n",
       "    <tr>\n",
       "      <th>4</th>\n",
       "      <td>CMP 101 Computer Information Literacy</td>\n",
       "      <td>Yes</td>\n",
       "      <td>Yes</td>\n",
       "      <td>Yes</td>\n",
       "      <td>No</td>\n",
       "      <td>Yes</td>\n",
       "      <td>No</td>\n",
       "      <td>No</td>\n",
       "      <td>No</td>\n",
       "      <td>No</td>\n",
       "      <td>...</td>\n",
       "      <td>No</td>\n",
       "      <td>No</td>\n",
       "      <td>No</td>\n",
       "      <td>No</td>\n",
       "      <td>No</td>\n",
       "      <td>No</td>\n",
       "      <td>No</td>\n",
       "      <td>Woman</td>\n",
       "      <td>White/Caucasian</td>\n",
       "      <td>19-20</td>\n",
       "    </tr>\n",
       "  </tbody>\n",
       "</table>\n",
       "<p>5 rows × 25 columns</p>\n",
       "</div>"
      ],
      "text/plain": [
       "                             currently_enrolled motivation_required  \\\n",
       "0  CMP 126 Computer Technology and Applications                  No   \n",
       "1  CMP 126 Computer Technology and Applications                 Yes   \n",
       "2  CMP 126 Computer Technology and Applications                 Yes   \n",
       "3  CMP 126 Computer Technology and Applications                  No   \n",
       "4         CMP 101 Computer Information Literacy                 Yes   \n",
       "\n",
       "  motivation_keepCurrent motivation_careerAdvancement motivation_careerChange  \\\n",
       "0                    Yes                          Yes                     Yes   \n",
       "1                    Yes                          Yes                      No   \n",
       "2                    Yes                          Yes                     Yes   \n",
       "3                    Yes                           No                      No   \n",
       "4                    Yes                          Yes                      No   \n",
       "\n",
       "  motivation_development motivation_jobDisplace motivation_relocation  \\\n",
       "0                    Yes                     No                    No   \n",
       "1                    Yes                    Yes                    No   \n",
       "2                    Yes                    Yes                   Yes   \n",
       "3                     No                     No                    No   \n",
       "4                    Yes                     No                    No   \n",
       "\n",
       "  motivation_certification motivation_financial  ... class_cyberSecurity  \\\n",
       "0                       No                  Yes  ...                 Yes   \n",
       "1                       No                  Yes  ...                 Yes   \n",
       "2                       No                  Yes  ...                  No   \n",
       "3                       No                   No  ...                  No   \n",
       "4                       No                   No  ...                  No   \n",
       "\n",
       "  class_appDevelopment class_dataAnalytics  class_AI class_programming  \\\n",
       "0                   No                  No        No                No   \n",
       "1                  Yes                 Yes       Yes               Yes   \n",
       "2                  Yes                  No       Yes               Yes   \n",
       "3                   No                 Yes        No                No   \n",
       "4                   No                  No        No                No   \n",
       "\n",
       "  class_gameDesign class_hardware             gender  \\\n",
       "0               No             No  Prefer not to say   \n",
       "1               No             No              Woman   \n",
       "2              Yes            Yes                Man   \n",
       "3              Yes             No                Man   \n",
       "4               No             No              Woman   \n",
       "\n",
       "                                   race_or_ethnicity             age  \n",
       "0  Hispanic or Latino;Black/African American;Whit...           19-20  \n",
       "1                                 Hispanic or Latino           19-20  \n",
       "2                                Choose not to reply  18 and younger  \n",
       "3                                 Hispanic or Latino           19-20  \n",
       "4                                    White/Caucasian           19-20  \n",
       "\n",
       "[5 rows x 25 columns]"
      ]
     },
     "execution_count": 82,
     "metadata": {},
     "output_type": "execute_result"
    }
   ],
   "source": [
    "survey_2024.head()"
   ]
  },
  {
   "cell_type": "markdown",
   "id": "5e75ef43-7b71-462f-b7ac-3a6be8b2f258",
   "metadata": {},
   "source": [
    "Having pared down our dataset, let's check for any null values."
   ]
  },
  {
   "cell_type": "code",
   "execution_count": 83,
   "id": "45d046bd-cbf4-49ca-8cbd-b9987310a1f1",
   "metadata": {},
   "outputs": [
    {
     "data": {
      "text/plain": [
       "currently_enrolled              0\n",
       "motivation_required             0\n",
       "motivation_keepCurrent          0\n",
       "motivation_careerAdvancement    0\n",
       "motivation_careerChange         0\n",
       "motivation_development          0\n",
       "motivation_jobDisplace          0\n",
       "motivation_relocation           0\n",
       "motivation_certification        0\n",
       "motivation_financial            0\n",
       "motivation_enrichment           0\n",
       "motivation_curiosity            0\n",
       "major                           0\n",
       "future_interest                 0\n",
       "class_webDevelopment            0\n",
       "class_cyberSecurity             0\n",
       "class_appDevelopment            0\n",
       "class_dataAnalytics             0\n",
       "class_AI                        0\n",
       "class_programming               0\n",
       "class_gameDesign                0\n",
       "class_hardware                  0\n",
       "gender                          0\n",
       "race_or_ethnicity               0\n",
       "age                             0\n",
       "dtype: int64"
      ]
     },
     "execution_count": 83,
     "metadata": {},
     "output_type": "execute_result"
    }
   ],
   "source": [
    "survey_2024.isnull().sum()"
   ]
  },
  {
   "cell_type": "markdown",
   "id": "f8b08ad7-a1b3-463d-b81f-ead4ff862325",
   "metadata": {},
   "source": [
    "`survey_2024.isnull().sum()` finds the total amout of null values in each column. This dataset does not contain any null values. "
   ]
  },
  {
   "cell_type": "markdown",
   "id": "3e98b360-e392-46df-b198-7cd4289f9674",
   "metadata": {},
   "source": [
    "Via visual inspection, the major and race/ethnicity columns contain values that can be further condensed. \n",
    "Beginning with the majors column, let's see the number of unique values."
   ]
  },
  {
   "cell_type": "code",
   "execution_count": 84,
   "id": "a69f9ca3-c7f2-419f-91c5-2ce1736214cd",
   "metadata": {},
   "outputs": [
    {
     "data": {
      "text/plain": [
       "major\n",
       "Radiography                                           26\n",
       "Liberal Arts                                          18\n",
       "Nursing                                                9\n",
       "Criminal Justice                                       5\n",
       "Child and Family Studies                               5\n",
       "Exercise Science                                       4\n",
       "Broadcasting Arts and Technology                       3\n",
       "Not in a degree program                                3\n",
       "Engineering Science                                    3\n",
       "Early Childhood Education                              3\n",
       "child psychology                                       1\n",
       "analyst                                                1\n",
       "Journalism                                             1\n",
       "Psychology                                             1\n",
       "Music Technology                                       1\n",
       "Nursing, but not at CCM - I am a visiting student      1\n",
       "Biology                                                1\n",
       "History Education                                      1\n",
       "Culinary Arts and Sciences                             1\n",
       "Biology - Environmental Track                          1\n",
       "Communication                                          1\n",
       "Musical Theatre                                        1\n",
       "Fire Science                                           1\n",
       "Name: count, dtype: int64"
      ]
     },
     "execution_count": 84,
     "metadata": {},
     "output_type": "execute_result"
    }
   ],
   "source": [
    "survey_2024[\"major\"].value_counts()"
   ]
  },
  {
   "cell_type": "markdown",
   "id": "581832b5-9806-4388-a7c8-e1e964a05ef9",
   "metadata": {},
   "source": [
    "The survey provides the following options for majors: Broadcasting Arts and Technology, Child and Family Studies, Communication, Criminal Justice, Early Childhood Education, Excercise Science, Journalism, Libeeral Arts, Music Technology, Nursing, Public Administration, Public Health, Radiology, Theatre Technology and Not in a Degree Program. \n",
    "\n",
    "I will maintain these original catergories with a few caveats. To begin, I will add a category for engineering science. Next, I will also consolidate different biology, psychology, nursing, child and family studies and music related majors into their own respective categories(e.g. Musical Theatre and Music Education will be grouped under the new category Music Education). In addition, I will also group any remaing disparate majors under a category called Other. \n",
    "\n",
    "First, let's group the different biology, nursing, psychology, childhood education and music education majors into their own respective categories using regular expressions. \n",
    "\n"
   ]
  },
  {
   "cell_type": "code",
   "execution_count": 85,
   "id": "c6fb1c97-6d85-4e8a-8ba4-dd0e5d28ad20",
   "metadata": {},
   "outputs": [
    {
     "data": {
      "text/plain": [
       "majors\n",
       "Radiography                         26\n",
       "Liberal Arts                        18\n",
       "Nursing                             10\n",
       "Child and Family Studies             8\n",
       "Criminal Justice                     5\n",
       "Exercise Science                     4\n",
       "Not in a degree program              3\n",
       "Broadcasting Arts and Technology     3\n",
       "Engineering Science                  3\n",
       "Psychology                           2\n",
       "Music Education                      2\n",
       "Biology                              2\n",
       "analyst                              1\n",
       "Journalism                           1\n",
       "Culinary Arts and Sciences           1\n",
       "History Education                    1\n",
       "Communication                        1\n",
       "Fire Science                         1\n",
       "Name: count, dtype: int64"
      ]
     },
     "execution_count": 85,
     "metadata": {},
     "output_type": "execute_result"
    }
   ],
   "source": [
    "majors = survey_2024[\"major\"]\n",
    "majors.replace(\".*[Bb]iology.*\", \"Biology\", regex = True, inplace = True)\n",
    "majors.replace(\".*[Pp]sychology.*\", \"Psychology\", regex = True, inplace = True)\n",
    "majors.replace(\".*[Nn]ursing.*\", \"Nursing\", regex = True, inplace = True)\n",
    "majors.replace(\".*[Cc]hild.*\", \"Child and Family Studies\", regex = True, inplace = True)\n",
    "majors.replace(\".*[Mm]usic.*\", \"Music Education\", regex = True, inplace = True)\n",
    "survey_2024[\"majors\"] = majors\n",
    "survey_2024[\"majors\"].value_counts()\n"
   ]
  },
  {
   "cell_type": "markdown",
   "id": "accaf2f7-2ad7-4d4e-bfbe-19f3f154c6d6",
   "metadata": {},
   "source": [
    "Now let's group any miscellaneuous majors into an Other category. "
   ]
  },
  {
   "cell_type": "code",
   "execution_count": 86,
   "id": "27505c72-d35d-429e-ba13-d91cdc77f5df",
   "metadata": {},
   "outputs": [],
   "source": [
    "majors_list = [\"Broadcasting Arts and Technology\", \"Child and Family Studies\", \"Communication\", \n",
    "               \"Criminal Justice\", \"Exercise Science\", \"Journalism\", \n",
    "               \"Liberal Arts\", \"Nursing\", \"Public Administration\", \"Public Health\", \"Radiography\", \n",
    "               \"Theatre Technology\", \"Engineering Science\", \"Psychology\", \"Biology\", \"Music Education\",  \"Not in a degree program\"]\n",
    "\n",
    "survey_2024[\"major\"] = survey_2024[\"major\"].apply(lambda x: \"Other\" if x not in majors_list else x)\n"
   ]
  },
  {
   "cell_type": "code",
   "execution_count": 87,
   "id": "b89f7f49-a3d4-42d1-a8c2-bf63acfd8432",
   "metadata": {},
   "outputs": [
    {
     "data": {
      "text/plain": [
       "major\n",
       "Radiography                         26\n",
       "Liberal Arts                        18\n",
       "Nursing                             10\n",
       "Child and Family Studies             8\n",
       "Criminal Justice                     5\n",
       "Other                                4\n",
       "Exercise Science                     4\n",
       "Not in a degree program              3\n",
       "Engineering Science                  3\n",
       "Broadcasting Arts and Technology     3\n",
       "Psychology                           2\n",
       "Biology                              2\n",
       "Music Education                      2\n",
       "Journalism                           1\n",
       "Communication                        1\n",
       "Name: count, dtype: int64"
      ]
     },
     "execution_count": 87,
     "metadata": {},
     "output_type": "execute_result"
    }
   ],
   "source": [
    "survey_2024[\"major\"].value_counts()\n"
   ]
  },
  {
   "cell_type": "markdown",
   "id": "d8cbac36-1345-4ac4-ab1f-c2f55e8dcf06",
   "metadata": {},
   "source": [
    "Having cleaned up the majors column, we can move on to the race/ethncity column."
   ]
  },
  {
   "cell_type": "code",
   "execution_count": 88,
   "id": "786346fa-2e99-47d6-a41e-be40681a735b",
   "metadata": {},
   "outputs": [
    {
     "data": {
      "text/plain": [
       "race_or_ethnicity\n",
       "White/Caucasian                                                           36\n",
       "Hispanic or Latino                                                        26\n",
       "Hispanic or Latino;White/Caucasian                                         7\n",
       "Black/African American                                                     6\n",
       "Choose not to reply                                                        5\n",
       "Asian;White/Caucasian                                                      3\n",
       "Asian                                                                      3\n",
       "Hispanic or Latino;Black/African American                                  1\n",
       "Hispanic or Latino;Black/African American;White/Caucasian;Multi-Racial     1\n",
       "Asian;Black/African American                                               1\n",
       "American Indian/Native American/Alaska Native;White/Caucasian              1\n",
       "Hispanic or Latino;White/Caucasian;Multi-Racial                            1\n",
       "Hispanic or Latino;Asian;White/Caucasian                                   1\n",
       "Name: count, dtype: int64"
      ]
     },
     "execution_count": 88,
     "metadata": {},
     "output_type": "execute_result"
    }
   ],
   "source": [
    "survey_2024[\"race_or_ethnicity\"].value_counts()"
   ]
  },
  {
   "cell_type": "markdown",
   "id": "b758b5ac-18dc-4a48-abe7-bf91a684967b",
   "metadata": {},
   "source": [
    "For this column, I will change any reply that contains more than one selection(e.g. Asian; African American) into a Mixed Race category. I will also change the \"Choose not to reply\" responses to \"Unknown\"."
   ]
  },
  {
   "cell_type": "code",
   "execution_count": 89,
   "id": "33261943-285b-41bb-9307-e72f434e531d",
   "metadata": {},
   "outputs": [],
   "source": [
    "race_ethnicity = survey_2024[\"race_or_ethnicity\"]\n",
    "race_ethnicity.replace(\"Choose not to reply\", \"Unknown\", regex = True, inplace = True)"
   ]
  },
  {
   "cell_type": "code",
   "execution_count": 90,
   "id": "be1095a8-da28-42eb-a8fb-2d7bd16e34e0",
   "metadata": {},
   "outputs": [
    {
     "data": {
      "text/plain": [
       "race_or_ethnicity\n",
       "White/Caucasian                                                           36\n",
       "Hispanic or Latino                                                        26\n",
       "Hispanic or Latino;White/Caucasian                                         7\n",
       "Black/African American                                                     6\n",
       "Unknown                                                                    5\n",
       "Asian;White/Caucasian                                                      3\n",
       "Asian                                                                      3\n",
       "Hispanic or Latino;Black/African American                                  1\n",
       "Hispanic or Latino;Black/African American;White/Caucasian;Multi-Racial     1\n",
       "Asian;Black/African American                                               1\n",
       "American Indian/Native American/Alaska Native;White/Caucasian              1\n",
       "Hispanic or Latino;White/Caucasian;Multi-Racial                            1\n",
       "Hispanic or Latino;Asian;White/Caucasian                                   1\n",
       "Name: count, dtype: int64"
      ]
     },
     "execution_count": 90,
     "metadata": {},
     "output_type": "execute_result"
    }
   ],
   "source": [
    "race_ethnicity.value_counts()"
   ]
  },
  {
   "cell_type": "code",
   "execution_count": 91,
   "id": "04a1d88f-1846-4c7c-956e-233a35027e70",
   "metadata": {},
   "outputs": [],
   "source": [
    "race_ethnicity.replace(\".*;.*\", \"Mixed\", regex = True, inplace = True)"
   ]
  },
  {
   "cell_type": "code",
   "execution_count": 92,
   "id": "c4e923be-c5c2-46cc-a173-8df013ec4c41",
   "metadata": {},
   "outputs": [
    {
     "data": {
      "text/plain": [
       "race_or_ethnicity\n",
       "White/Caucasian           36\n",
       "Hispanic or Latino        26\n",
       "Mixed                     16\n",
       "Black/African American     6\n",
       "Unknown                    5\n",
       "Asian                      3\n",
       "Name: count, dtype: int64"
      ]
     },
     "execution_count": 92,
     "metadata": {},
     "output_type": "execute_result"
    }
   ],
   "source": [
    "race_ethnicity.value_counts()"
   ]
  },
  {
   "cell_type": "markdown",
   "id": "9751e0a2-e9b5-4492-b957-6eb9b48a6f5c",
   "metadata": {},
   "source": [
    "Having completed our data cleaning, I will save our cleaned data as a new csv file. "
   ]
  },
  {
   "cell_type": "code",
   "execution_count": 93,
   "id": "9d38a938-6e9a-474d-9e3f-e1317f63a670",
   "metadata": {},
   "outputs": [],
   "source": [
    "survey_2024.to_csv(\"Student Survey Results 2024 Cleaned.csv\", index = False)"
   ]
  },
  {
   "cell_type": "markdown",
   "id": "1b408121-837f-411d-967f-7b92b7c10d08",
   "metadata": {},
   "source": [
    "## III. Data Exploration"
   ]
  },
  {
   "cell_type": "markdown",
   "id": "50a83eec-1563-4575-94ae-61bfd369beeb",
   "metadata": {},
   "source": [
    "### Student Demographics"
   ]
  },
  {
   "cell_type": "markdown",
   "id": "c160978c-afc1-46f3-bea8-18998e5b58a3",
   "metadata": {},
   "source": [
    "To begin our data exploration, let's take a look at the demographics of students currently enrolled in an introductory computing course. This will help us address question 1 posed in the Project Overview section."
   ]
  },
  {
   "cell_type": "code",
   "execution_count": 94,
   "id": "d69731c5-6f33-4a24-967d-a626b337e8df",
   "metadata": {},
   "outputs": [
    {
     "data": {
      "text/plain": [
       "gender\n",
       "Woman                60\n",
       "Man                  29\n",
       "Prefer not to say     2\n",
       "Non-binary            1\n",
       "Name: count, dtype: int64"
      ]
     },
     "execution_count": 94,
     "metadata": {},
     "output_type": "execute_result"
    }
   ],
   "source": [
    "survey_2024['gender'].value_counts()"
   ]
  },
  {
   "cell_type": "code",
   "execution_count": 95,
   "id": "42742867-978d-4de4-a8f9-dc28fc664758",
   "metadata": {},
   "outputs": [
    {
     "data": {
      "text/plain": [
       "race_or_ethnicity\n",
       "White/Caucasian           36\n",
       "Hispanic or Latino        26\n",
       "Mixed                     16\n",
       "Black/African American     6\n",
       "Unknown                    5\n",
       "Asian                      3\n",
       "Name: count, dtype: int64"
      ]
     },
     "execution_count": 95,
     "metadata": {},
     "output_type": "execute_result"
    }
   ],
   "source": [
    "survey_2024[\"race_or_ethnicity\"].value_counts()"
   ]
  },
  {
   "cell_type": "code",
   "execution_count": 96,
   "id": "86d28e16-977d-4025-9ef7-b7299b86a3fd",
   "metadata": {},
   "outputs": [
    {
     "data": {
      "text/plain": [
       "age\n",
       "19-20             44\n",
       "21-24             17\n",
       "18 and younger    14\n",
       "25-34             11\n",
       "35-64              6\n",
       "Name: count, dtype: int64"
      ]
     },
     "execution_count": 96,
     "metadata": {},
     "output_type": "execute_result"
    }
   ],
   "source": [
    "survey_2024['age'].value_counts()"
   ]
  },
  {
   "cell_type": "markdown",
   "id": "83d16f5b-7d41-4981-9b46-a18771662040",
   "metadata": {},
   "source": [
    "At first glance, we can see woman greatly outnumber the amount of men currently enrolled in an introductory computing course. For race/ethincity, white/caucasion takes the lead followed by hispanic/latino. The results for age are unsurprising with the 19-20 age bracket predominating. \n",
    "\n",
    "Let's take a closer look at the breakdown of some of these demographics.\n"
   ]
  },
  {
   "cell_type": "code",
   "execution_count": 97,
   "id": "fbbc3373-f25e-4ef5-8a8b-ba1b1fd59a73",
   "metadata": {},
   "outputs": [
    {
     "data": {
      "text/plain": [
       "race_or_ethnicity\n",
       "Asian                      2\n",
       "Black/African American     4\n",
       "Hispanic or Latino        21\n",
       "Mixed                     11\n",
       "Unknown                    3\n",
       "White/Caucasian           19\n",
       "Name: gender, dtype: int64"
      ]
     },
     "execution_count": 97,
     "metadata": {},
     "output_type": "execute_result"
    }
   ],
   "source": [
    "survey_2024.groupby([\"race_or_ethnicity\"])[\"gender\"].apply(lambda x: (x == \"Woman\").sum())"
   ]
  },
  {
   "cell_type": "code",
   "execution_count": 98,
   "id": "f54fca42-a33b-41e4-88b5-ed1947223632",
   "metadata": {},
   "outputs": [
    {
     "data": {
      "text/plain": [
       "race_or_ethnicity\n",
       "Asian                      1\n",
       "Black/African American     2\n",
       "Hispanic or Latino         5\n",
       "Mixed                      4\n",
       "Unknown                    2\n",
       "White/Caucasian           15\n",
       "Name: gender, dtype: int64"
      ]
     },
     "execution_count": 98,
     "metadata": {},
     "output_type": "execute_result"
    }
   ],
   "source": [
    "survey_2024.groupby([\"race_or_ethnicity\"])[\"gender\"].apply(lambda x: (x == \"Man\").sum())"
   ]
  },
  {
   "cell_type": "markdown",
   "id": "69040b33-6aa8-41ab-8541-6f6b472ea0a8",
   "metadata": {},
   "source": [
    "The above tables give a breakdown of gender by race/ethnicity. For females, most are hispanic/latina. For men, white/caucasion is most prevelent. Let's do the same for age.\n"
   ]
  },
  {
   "cell_type": "code",
   "execution_count": 99,
   "id": "b420c7e8-56e0-4bf7-a93e-11cf636305d0",
   "metadata": {},
   "outputs": [
    {
     "data": {
      "text/plain": [
       "age\n",
       "18 and younger    10\n",
       "19-20             27\n",
       "21-24             14\n",
       "25-34              7\n",
       "35-64              2\n",
       "Name: gender, dtype: int64"
      ]
     },
     "execution_count": 99,
     "metadata": {},
     "output_type": "execute_result"
    }
   ],
   "source": [
    "survey_2024.groupby([\"age\"])[\"gender\"].apply(lambda x: (x == \"Woman\").sum())"
   ]
  },
  {
   "cell_type": "code",
   "execution_count": 100,
   "id": "d6d5c7ba-59b3-43ce-863b-38470877925e",
   "metadata": {},
   "outputs": [
    {
     "data": {
      "text/plain": [
       "age\n",
       "18 and younger     3\n",
       "19-20             15\n",
       "21-24              3\n",
       "25-34              4\n",
       "35-64              4\n",
       "Name: gender, dtype: int64"
      ]
     },
     "execution_count": 100,
     "metadata": {},
     "output_type": "execute_result"
    }
   ],
   "source": [
    "survey_2024.groupby([\"age\"])[\"gender\"].apply(lambda x: (x == \"Man\").sum())"
   ]
  },
  {
   "cell_type": "markdown",
   "id": "2e92225e-900e-4269-95fc-9b7e53d5f69c",
   "metadata": {},
   "source": [
    "The 19-20 age bracket is highest for both genders. \n",
    "\n",
    "Therefore, in terms of gender, hispanic/latina women within the 19-20 age bracket appear most prevelant while for males, white/caucasions of the age 19-20 are most common. \n",
    "\n",
    "Let's create some bar charts to help vizualize some of the above findings. \n"
   ]
  },
  {
   "cell_type": "code",
   "execution_count": 101,
   "id": "476876fd-5c9d-488c-9d6e-160c732a924d",
   "metadata": {},
   "outputs": [
    {
     "data": {
      "image/png": "[encoded data removed]",
      "text/plain": [
       "<Figure size 640x480 with 1 Axes>"
      ]
     },
     "metadata": {},
     "output_type": "display_data"
    }
   ],
   "source": [
    "categories_re = [\"Asian\", \"Black/African American\", \"Hispanic or Latino\", \"Mixed\", \"Unknown\", \"White/Caucasian\"]\n",
    "x = np.arange(len(categories_re))\n",
    "\n",
    "female_re = survey_2024.groupby([\"race_or_ethnicity\"])[\"gender\"].apply(lambda x: (x == \"Woman\").sum()).tolist()\n",
    "male_re = survey_2024.groupby([\"race_or_ethnicity\"])[\"gender\"].apply(lambda x: (x == \"Man\").sum()).tolist()\n",
    "\n",
    "plt.bar(x, female_re, width = 0.8, color = \"pink\", label = \"Female\")\n",
    "plt.bar(x, male_re, width = 0.4, color = \"skyblue\", alpha = 0.5, label = \"Male\")\n",
    "plt.title(\"Student Race/Ethnicity by Gender\")\n",
    "plt.xlabel(\"Race/Ethnicity\")\n",
    "plt.xticks(x, categories_re, rotation = \"vertical\")\n",
    "plt.ylabel(\"Count\")\n",
    "plt.legend()\n",
    "style.use(\"ggplot\")\n",
    "plt.show()"
   ]
  },
  {
   "cell_type": "code",
   "execution_count": 102,
   "id": "28135eff-061f-4c54-9b09-06b013648d40",
   "metadata": {},
   "outputs": [
    {
     "data": {
      "image/png": "[encoded data removed]",
      "text/plain": [
       "<Figure size 640x480 with 1 Axes>"
      ]
     },
     "metadata": {},
     "output_type": "display_data"
    }
   ],
   "source": [
    "categories_age = [\"18 and younger\", \"19-20\", \"21-24\", \"25-34\", \"35-64\"]\n",
    "x = np.arange(len(categories_age))\n",
    "\n",
    "female_age = survey_2024.groupby([\"age\"])[\"gender\"].apply(lambda x: (x == \"Woman\").sum()).tolist()\n",
    "male_age = survey_2024.groupby([\"age\"])[\"gender\"].apply(lambda x: (x == \"Man\").sum()).tolist()\n",
    "\n",
    "plt.bar(x, female_age, width = 0.8, color = \"pink\", label = \"Female\")\n",
    "plt.bar(x, male_age, width = 0.4, color = \"skyblue\", alpha = 0.5, label = \"Male\")\n",
    "plt.title(\"Student Age by Gender\")\n",
    "plt.xlabel(\"Age\")\n",
    "plt.xticks(x, categories_age, rotation = \"horizontal\")\n",
    "plt.ylabel(\"Count\")\n",
    "plt.legend()\n",
    "style.use(\"ggplot\")\n",
    "plt.show()"
   ]
  },
  {
   "cell_type": "markdown",
   "id": "91bcbad1-a7b6-4dfb-a376-4c39ac8399fe",
   "metadata": {},
   "source": [
    "From the overlaid bard charts above, our initial observations from the pivot tables are confirmed. For race/ethnicity, we could also say that the female distribution is bimodal whereas for men it is unimodal. For age, both male and female distributions are unimodal. "
   ]
  },
  {
   "cell_type": "markdown",
   "id": "3497dca7-7196-4566-bd09-b5009dc682a7",
   "metadata": {},
   "source": [
    "*What can we say about the demographic makeup of students taking introductory courses at CCM?*\n",
    "\n",
    "**In general, females make up a larger share of students taking an introductory computing course. Among females, the hispanic/latina grouping makes up the largest share with caucasian as a close second. Most are of the age between 19-20. As for males, the large majority are caucasions between the ages of 19-20.**\n",
    "\n"
   ]
  },
  {
   "cell_type": "markdown",
   "id": "1df576a4-3b04-4027-b054-faf1c7b981bb",
   "metadata": {},
   "source": [
    "Before moving on, let's take a quick look at how both men and women replied to the future interest question. This will play a role in our logistic regression model later on. "
   ]
  },
  {
   "cell_type": "code",
   "execution_count": 103,
   "id": "3a98720f-6752-4e1b-9637-84bb4d6107d1",
   "metadata": {},
   "outputs": [
    {
     "data": {
      "text/plain": [
       "gender\n",
       "Man                  17\n",
       "Non-binary            0\n",
       "Prefer not to say     0\n",
       "Woman                31\n",
       "Name: future_interest, dtype: int64"
      ]
     },
     "execution_count": 103,
     "metadata": {},
     "output_type": "execute_result"
    }
   ],
   "source": [
    "survey_2024.groupby([\"gender\"])[\"future_interest\"].apply(lambda x: (x >= 3).sum())"
   ]
  },
  {
   "cell_type": "markdown",
   "id": "978930f4-18e6-4c27-939b-67dc8f861ec3",
   "metadata": {},
   "source": [
    "Out of the 60 women, about half recorded a value of 3 or higher while out of 29 men, 17 did the same."
   ]
  },
  {
   "cell_type": "markdown",
   "id": "31861bf1-f5aa-44c2-8df4-c1355b89b07b",
   "metadata": {},
   "source": [
    "### Computing Classes and Further Interest "
   ]
  },
  {
   "cell_type": "markdown",
   "id": "2341ce49-d875-4e9a-b529-3ec21fd35462",
   "metadata": {},
   "source": [
    "We will now analyze the interplay between introductory computing classes, student major and an indicated desire to take more computing classes in the future.  \n",
    "\n",
    "Let's first take a look at the distribution of intro to computing classes."
   ]
  },
  {
   "cell_type": "code",
   "execution_count": 104,
   "id": "c5aadf6a-fca5-4513-ba7f-b1147ff07c9a",
   "metadata": {},
   "outputs": [
    {
     "data": {
      "text/plain": [
       "currently_enrolled\n",
       "CMP 135 Computer Concepts with Applications     40\n",
       "CMP 126 Computer Technology and Applications    30\n",
       "CMP 101 Computer Information Literacy           22\n",
       "Name: count, dtype: int64"
      ]
     },
     "execution_count": 104,
     "metadata": {},
     "output_type": "execute_result"
    }
   ],
   "source": [
    "survey_2024[\"currently_enrolled\"].value_counts()"
   ]
  },
  {
   "cell_type": "markdown",
   "id": "8159c257-4962-470a-ab87-f2d0dc4db4ad",
   "metadata": {},
   "source": [
    "As we can see, computer concepts with Applications is the favorite class to take. Yet, as stated in question two in the Project Overview Section, it would be interesting to know if either of the three courses listed above have a greater percentage of students who indicate a willingness to take further computing courses.\n"
   ]
  },
  {
   "cell_type": "code",
   "execution_count": 105,
   "id": "00048109-83f1-4e29-b71d-fc57ebc3f733",
   "metadata": {},
   "outputs": [
    {
     "data": {
      "text/plain": [
       "currently_enrolled\n",
       "CMP 101 Computer Information Literacy           17\n",
       "CMP 126 Computer Technology and Applications    16\n",
       "CMP 135 Computer Concepts with Applications     15\n",
       "Name: count, dtype: int64"
      ]
     },
     "execution_count": 105,
     "metadata": {},
     "output_type": "execute_result"
    }
   ],
   "source": [
    "interest = survey_2024[survey_2024[\"future_interest\"] >= 3]\n",
    "interest[\"currently_enrolled\"].value_counts()\n",
    "\n"
   ]
  },
  {
   "cell_type": "markdown",
   "id": "41725990-4481-443c-87f7-6cf7ddc6a986",
   "metadata": {},
   "source": [
    "I created a new dataset and excluded any values under the future_interest column that were less than 3 (interest is measured from 1-5 with 5 indicating high future interest). I then called `interest[\"currently_enrolled\"].value_counts()` to get the updated counts. Let's get the ratio of these values.\n",
    "\n"
   ]
  },
  {
   "cell_type": "code",
   "execution_count": 106,
   "id": "0fe74b2a-62ee-437c-a793-5664382e74d8",
   "metadata": {},
   "outputs": [
    {
     "name": "stdout",
     "output_type": "stream",
     "text": [
      "Computer Information Literacy: 0.42\n",
      "Computer Technology and Applications: 0.53\n",
      "Computer Concepts with Applications: 0.68\n",
      "\n"
     ]
    }
   ],
   "source": [
    "x = interest[\"currently_enrolled\"].value_counts()\n",
    "y = survey_2024[\"currently_enrolled\"].value_counts()\n",
    "\n",
    "print(f\"Computer Information Literacy: {x.iloc[0]/y.iloc[0]:.2f}\\n\" +\n",
    "      f\"Computer Technology and Applications: {x.iloc[1]/y.iloc[1]:.2f}\\n\" +\n",
    "      f\"Computer Concepts with Applications: {x.iloc[2]/y.iloc[2]:.2f}\\n\")\n",
    "      \n",
    "\n"
   ]
  },
  {
   "cell_type": "markdown",
   "id": "372a4106-1815-4d1c-84fe-da97962a4b06",
   "metadata": {},
   "source": [
    "**Therefore, Computer Concepts with Applications corresponds with the greatest proportion of students who indicate a further willingess to take computing classes in the future. Note that this does not say that this class is a powerful explanatory variable for further interst. It is simply an interesting observation.**"
   ]
  },
  {
   "cell_type": "markdown",
   "id": "622a3c0e-098b-4452-9a9a-c55f423bc90b",
   "metadata": {},
   "source": [
    "### Student Major and Further Interest"
   ]
  },
  {
   "cell_type": "markdown",
   "id": "30b92c7c-8db7-4464-a964-a1ee322654dd",
   "metadata": {},
   "source": [
    "Let's now take a look at which student majors display a higher interest in further computer courses.\n",
    "To begin, I'll recall the `value_counts()` method for student major."
   ]
  },
  {
   "cell_type": "code",
   "execution_count": 107,
   "id": "706dd903-f77c-4ae3-b60e-82e68655f504",
   "metadata": {},
   "outputs": [
    {
     "data": {
      "text/plain": [
       "major\n",
       "Radiography                         26\n",
       "Liberal Arts                        18\n",
       "Nursing                             10\n",
       "Child and Family Studies             8\n",
       "Criminal Justice                     5\n",
       "Other                                4\n",
       "Exercise Science                     4\n",
       "Not in a degree program              3\n",
       "Engineering Science                  3\n",
       "Broadcasting Arts and Technology     3\n",
       "Psychology                           2\n",
       "Biology                              2\n",
       "Music Education                      2\n",
       "Journalism                           1\n",
       "Communication                        1\n",
       "Name: count, dtype: int64"
      ]
     },
     "execution_count": 107,
     "metadata": {},
     "output_type": "execute_result"
    }
   ],
   "source": [
    "survey_2024[\"major\"].value_counts()"
   ]
  },
  {
   "cell_type": "markdown",
   "id": "dce59f63-0232-4526-bbbb-d881f6e35ab7",
   "metadata": {},
   "source": [
    "To better visualize the distribution of majors, let's create a pie chart."
   ]
  },
  {
   "cell_type": "code",
   "execution_count": 108,
   "id": "3b7f2863-3096-4221-8a96-cb381bd01cde",
   "metadata": {},
   "outputs": [
    {
     "data": {
      "image/png": "[encoded data removed]",
      "text/plain": [
       "<Figure size 640x480 with 1 Axes>"
      ]
     },
     "metadata": {},
     "output_type": "display_data"
    }
   ],
   "source": [
    "major_counts = survey_2024[\"major\"].value_counts().tolist()\n",
    "total = sum(survey_2024[\"major\"].value_counts().tolist())\n",
    "slices = [x/total for x in major_counts]\n",
    "\n",
    "labels = [\"Radiography\", \"Liberal Arts\", \"Nursing\", \"Child and Family Studies\", \"Criminal Justice\", \"Other\", \n",
    "          \"Excercise Science\", \"Not in a degree program\", \"Engineering Science\", \"Broadcasting Arts and Technology\",\n",
    "          \"Psychology\", \"Biology\", \"Music Education\", \"Journalism\", \"Communication\"]\n",
    "explode = [0,0,0,0,0,0,0,0,0,0,0,0,0.25,0.5,0.75]\n",
    "plt.pie(slices, labels = labels, autopct = \"%.1f%%\", explode = explode, shadow = True, startangle = 45)\n",
    "plt.axis(\"equal\")\n",
    "plt.show()"
   ]
  },
  {
   "cell_type": "markdown",
   "id": "bb04ad08-468d-49d4-b24a-0d705add6c47",
   "metadata": {},
   "source": [
    "As we can see, radiography, liberal arts and nursing make up a large share of the pie. I \"exploded\" commincation, journalism and music education majors simply to make the chart a more readable."
   ]
  },
  {
   "cell_type": "markdown",
   "id": "ef1dd6e1-9735-4434-aa38-d9dd1fc40500",
   "metadata": {},
   "source": [
    "Now let's get a count of majors who indicate  "
   ]
  },
  {
   "cell_type": "code",
   "execution_count": 109,
   "id": "bd2d34c3-eeac-4c60-8461-53893cd69724",
   "metadata": {},
   "outputs": [
    {
     "data": {
      "text/plain": [
       "major\n",
       "Biology                              2\n",
       "Broadcasting Arts and Technology     1\n",
       "Child and Family Studies             4\n",
       "Communication                        0\n",
       "Criminal Justice                     4\n",
       "Engineering Science                  0\n",
       "Exercise Science                     2\n",
       "Journalism                           1\n",
       "Liberal Arts                         9\n",
       "Music Education                      0\n",
       "Not in a degree program              2\n",
       "Nursing                              7\n",
       "Other                                2\n",
       "Psychology                           2\n",
       "Radiography                         12\n",
       "Name: future_interest, dtype: int64"
      ]
     },
     "execution_count": 109,
     "metadata": {},
     "output_type": "execute_result"
    }
   ],
   "source": [
    "survey_2024.groupby([\"major\"])[\"future_interest\"].apply(lambda x: (x >= 3).sum())"
   ]
  },
  {
   "cell_type": "markdown",
   "id": "067e1c68-ef47-42dc-8a85-8ea4c040b122",
   "metadata": {},
   "source": [
    "Once again getting the ratio's, we have:"
   ]
  },
  {
   "cell_type": "code",
   "execution_count": 110,
   "id": "b8acbfa1-7b40-48b5-b444-261f4838059f",
   "metadata": {},
   "outputs": [
    {
     "name": "stdout",
     "output_type": "stream",
     "text": [
      "Biology: 1.00\n",
      "Broadcasting Arts and Technology: 0.33\n",
      "Child and Family Studies: 0.50\n",
      "Communication: 0.00\n",
      "Criminal Justice: 0.80\n",
      "Engineering Science: 0.00\n",
      "Exercise Science: 0.50\n",
      "Journalism: 1.00\n",
      "Liberal Arts: 0.50\n",
      "Music Education: 0.00\n",
      "Not in a degree program: 0.67\n",
      "Nursing: 0.70\n",
      "Other: 0.50\n",
      "Psychology: 1.00\n",
      "Radiography: 0.46\n",
      "\n"
     ]
    }
   ],
   "source": [
    "x = survey_2024.groupby([\"major\"])[\"future_interest\"].apply(lambda x: (x >= 3).sum()).sort_index()\n",
    "y = survey_2024[\"major\"].value_counts().sort_index()\n",
    "\n",
    "print(f\"Biology: {x.iloc[0]/y.iloc[0]:.2f}\\n\" +\n",
    "      f\"Broadcasting Arts and Technology: {x.iloc[1]/y.iloc[1]:.2f}\\n\" +\n",
    "      f\"Child and Family Studies: {x.iloc[2]/y.iloc[2]:.2f}\\n\" +\n",
    "      f\"Communication: {x.iloc[3]/y.iloc[3]:.2f}\\n\" +\n",
    "      f\"Criminal Justice: {x.iloc[4]/y.iloc[4]:.2f}\\n\" +\n",
    "      f\"Engineering Science: {x.iloc[5]/y.iloc[5]:.2f}\\n\" +\n",
    "      f\"Exercise Science: {x.iloc[6]/y.iloc[6]:.2f}\\n\" +\n",
    "      f\"Journalism: {x.iloc[7]/y.iloc[7]:.2f}\\n\" +\n",
    "      f\"Liberal Arts: {x.iloc[8]/y.iloc[8]:.2f}\\n\" +\n",
    "      f\"Music Education: {x.iloc[9]/y.iloc[9]:.2f}\\n\" +\n",
    "      f\"Not in a degree program: {x.iloc[10]/y.iloc[10]:.2f}\\n\" +\n",
    "      f\"Nursing: {x.iloc[11]/y.iloc[11]:.2f}\\n\" +\n",
    "      f\"Other: {x.iloc[12]/y.iloc[12]:.2f}\\n\" +\n",
    "      f\"Psychology: {x.iloc[13]/y.iloc[13]:.2f}\\n\"\n",
    "      f\"Radiography: {x.iloc[14]/y.iloc[14]:.2f}\\n\")\n",
    "\n",
    "    "
   ]
  },
  {
   "cell_type": "markdown",
   "id": "20b43a00-6ae6-4a64-bc14-1280dd097f06",
   "metadata": {},
   "source": [
    "The results are somewhat ambiguous. Biology and Pyschology both have a value of 1, although given each major only contains 2 obvservations, this isn't too helpful. The same can be said for the comminication, engineering science and music education majors. All have values of 0 but their observation counts(1,3,2 respectively) are all quite small. Half of all liberal arts majors indicated a degree of interest in taking future computer courses while a little under half for radiography. \n",
    "\n",
    "It is interesting to note that if I set a more stringent parameter for future_interest (by considering only values of 4 or higher) the numbers drop precipitously as evidenced below.\n"
   ]
  },
  {
   "cell_type": "code",
   "execution_count": 111,
   "id": "5791ff4d-8473-4fc9-8db6-d46913509e0b",
   "metadata": {},
   "outputs": [
    {
     "name": "stdout",
     "output_type": "stream",
     "text": [
      "Biology: 0.50\n",
      "Broadcasting Arts and Technology: 0.33\n",
      "Child and Family Studies: 0.25\n",
      "Communication: 0.00\n",
      "Criminal Justice: 0.20\n",
      "Engineering Science: 0.00\n",
      "Exercise Science: 0.00\n",
      "Journalism: 0.00\n",
      "Liberal Arts: 0.00\n",
      "Music Education: 0.00\n",
      "Not in a degree program: 0.00\n",
      "Nursing: 0.20\n",
      "Other: 0.00\n",
      "Psychology: 0.00\n",
      "Radiography: 0.27\n",
      "\n"
     ]
    }
   ],
   "source": [
    "x = survey_2024.groupby([\"major\"])[\"future_interest\"].apply(lambda x: (x >= 4).sum()).sort_index()\n",
    "y = survey_2024[\"major\"].value_counts().sort_index()\n",
    "\n",
    "print(f\"Biology: {x.iloc[0]/y.iloc[0]:.2f}\\n\" +\n",
    "      f\"Broadcasting Arts and Technology: {x.iloc[1]/y.iloc[1]:.2f}\\n\" +\n",
    "      f\"Child and Family Studies: {x.iloc[2]/y.iloc[2]:.2f}\\n\" +\n",
    "      f\"Communication: {x.iloc[3]/y.iloc[3]:.2f}\\n\" +\n",
    "      f\"Criminal Justice: {x.iloc[4]/y.iloc[4]:.2f}\\n\" +\n",
    "      f\"Engineering Science: {x.iloc[5]/y.iloc[5]:.2f}\\n\" +\n",
    "      f\"Exercise Science: {x.iloc[6]/y.iloc[6]:.2f}\\n\" +\n",
    "      f\"Journalism: {x.iloc[7]/y.iloc[7]:.2f}\\n\" +\n",
    "      f\"Liberal Arts: {x.iloc[8]/y.iloc[8]:.2f}\\n\" +\n",
    "      f\"Music Education: {x.iloc[9]/y.iloc[9]:.2f}\\n\" +\n",
    "      f\"Not in a degree program: {x.iloc[10]/y.iloc[10]:.2f}\\n\" +\n",
    "      f\"Nursing: {x.iloc[11]/y.iloc[11]:.2f}\\n\" +\n",
    "      f\"Other: {x.iloc[12]/y.iloc[12]:.2f}\\n\" +\n",
    "      f\"Psychology: {x.iloc[13]/y.iloc[13]:.2f}\\n\"\n",
    "      f\"Radiography: {x.iloc[14]/y.iloc[14]:.2f}\\n\")\n",
    "\n",
    "    "
   ]
  },
  {
   "cell_type": "markdown",
   "id": "2e95ed39-f9af-4dd3-9374-77760a3aaba8",
   "metadata": {},
   "source": [
    "**Therefore, at first glance, any type of relationship between student major and a further willingess to take computing courses appears inconclusive. By adjusting the interest parameter between three and four, however, we can see that across the board, interest in future computing classes is lukewarm at best. For example, half of liberal arts majors indicated some degree of interest whereas none recorded a strong interest (a value of four or greater).**"
   ]
  },
  {
   "cell_type": "markdown",
   "id": "9ee55194-3fa8-4a56-b1e2-4ca136701d46",
   "metadata": {},
   "source": [
    "### Future Interest and Class Preference"
   ]
  },
  {
   "cell_type": "markdown",
   "id": "d0da1e92-8b90-4347-879a-952e00a379b9",
   "metadata": {},
   "source": [
    "Is there a future class that student tend to prefer? Perhpas cybersecurity? Or maybe app development? Let's get a feel for which class is most popular.\n"
   ]
  },
  {
   "cell_type": "code",
   "execution_count": 112,
   "id": "93aa155a-0359-4415-8642-b1f45fc8f559",
   "metadata": {},
   "outputs": [
    {
     "data": {
      "text/plain": [
       "class_cyberSecurity\n",
       "No     61\n",
       "Yes    31\n",
       "Name: count, dtype: int64"
      ]
     },
     "execution_count": 112,
     "metadata": {},
     "output_type": "execute_result"
    }
   ],
   "source": [
    "survey_2024[\"class_cyberSecurity\"].value_counts()\n"
   ]
  },
  {
   "cell_type": "code",
   "execution_count": 113,
   "id": "913e9b8f-8cf2-44fb-81a8-f99318078738",
   "metadata": {},
   "outputs": [
    {
     "data": {
      "text/plain": [
       "class_webDevelopment\n",
       "No     70\n",
       "Yes    22\n",
       "Name: count, dtype: int64"
      ]
     },
     "execution_count": 113,
     "metadata": {},
     "output_type": "execute_result"
    }
   ],
   "source": [
    "survey_2024[\"class_webDevelopment\"].value_counts()\n"
   ]
  },
  {
   "cell_type": "code",
   "execution_count": 114,
   "id": "5a84952e-09b7-4e96-9017-0ef18594871a",
   "metadata": {},
   "outputs": [
    {
     "data": {
      "text/plain": [
       "class_appDevelopment\n",
       "No     68\n",
       "Yes    24\n",
       "Name: count, dtype: int64"
      ]
     },
     "execution_count": 114,
     "metadata": {},
     "output_type": "execute_result"
    }
   ],
   "source": [
    "survey_2024[\"class_appDevelopment\"].value_counts()\n"
   ]
  },
  {
   "cell_type": "code",
   "execution_count": 115,
   "id": "76ebd4b3-f0f2-40e4-81dd-10e008a96d1a",
   "metadata": {},
   "outputs": [
    {
     "data": {
      "text/plain": [
       "class_dataAnalytics\n",
       "No     71\n",
       "Yes    21\n",
       "Name: count, dtype: int64"
      ]
     },
     "execution_count": 115,
     "metadata": {},
     "output_type": "execute_result"
    }
   ],
   "source": [
    "survey_2024[\"class_dataAnalytics\"].value_counts()"
   ]
  },
  {
   "cell_type": "code",
   "execution_count": 116,
   "id": "2b1327cc-9381-486c-a5ae-80aface6ea0e",
   "metadata": {},
   "outputs": [
    {
     "data": {
      "text/plain": [
       "class_AI\n",
       "No     64\n",
       "Yes    28\n",
       "Name: count, dtype: int64"
      ]
     },
     "execution_count": 116,
     "metadata": {},
     "output_type": "execute_result"
    }
   ],
   "source": [
    "survey_2024[\"class_AI\"].value_counts()"
   ]
  },
  {
   "cell_type": "code",
   "execution_count": 117,
   "id": "92b449cd-6742-4c69-9c32-92fa6c869c2d",
   "metadata": {},
   "outputs": [
    {
     "data": {
      "text/plain": [
       "class_programming\n",
       "No     70\n",
       "Yes    22\n",
       "Name: count, dtype: int64"
      ]
     },
     "execution_count": 117,
     "metadata": {},
     "output_type": "execute_result"
    }
   ],
   "source": [
    "survey_2024[\"class_programming\"].value_counts()"
   ]
  },
  {
   "cell_type": "code",
   "execution_count": 118,
   "id": "29fe0350-133d-472c-b33d-d0515a7c3318",
   "metadata": {},
   "outputs": [
    {
     "data": {
      "text/plain": [
       "class_gameDesign\n",
       "No     64\n",
       "Yes    28\n",
       "Name: count, dtype: int64"
      ]
     },
     "execution_count": 118,
     "metadata": {},
     "output_type": "execute_result"
    }
   ],
   "source": [
    "survey_2024[\"class_gameDesign\"].value_counts()"
   ]
  },
  {
   "cell_type": "code",
   "execution_count": 119,
   "id": "56c6794c-3443-4111-92c9-60306e6dccf3",
   "metadata": {},
   "outputs": [
    {
     "data": {
      "text/plain": [
       "class_hardware\n",
       "No     70\n",
       "Yes    22\n",
       "Name: count, dtype: int64"
      ]
     },
     "execution_count": 119,
     "metadata": {},
     "output_type": "execute_result"
    }
   ],
   "source": [
    "survey_2024[\"class_hardware\"].value_counts()"
   ]
  },
  {
   "cell_type": "markdown",
   "id": "2d5f15d7-ec83-4913-aaf0-334c340ac999",
   "metadata": {},
   "source": [
    "Oddly enough, there isn't much notable variation between each class. Cybersecurity seems to attract the most interest but only marginally while data analytics appears to be of least interest. These numbers are from the entire student survey. Let's pare down the data set to those who indicated an interest in computing and look again. I will be using the datafram interest created earlier which only contains interest values of 3 or greater."
   ]
  },
  {
   "cell_type": "code",
   "execution_count": 120,
   "id": "93fb6cb6-9ab3-4e91-9023-89b8e8bd77cf",
   "metadata": {},
   "outputs": [
    {
     "data": {
      "text/plain": [
       "class_cyberSecurity\n",
       "Yes    26\n",
       "No     22\n",
       "Name: count, dtype: int64"
      ]
     },
     "execution_count": 120,
     "metadata": {},
     "output_type": "execute_result"
    }
   ],
   "source": [
    "interest[\"class_cyberSecurity\"].value_counts()"
   ]
  },
  {
   "cell_type": "code",
   "execution_count": 121,
   "id": "bfc18eff-0dd0-4382-ad4b-4e1c1893043d",
   "metadata": {},
   "outputs": [
    {
     "data": {
      "text/plain": [
       "class_appDevelopment\n",
       "No     28\n",
       "Yes    20\n",
       "Name: count, dtype: int64"
      ]
     },
     "execution_count": 121,
     "metadata": {},
     "output_type": "execute_result"
    }
   ],
   "source": [
    "interest[\"class_appDevelopment\"].value_counts()"
   ]
  },
  {
   "cell_type": "code",
   "execution_count": 122,
   "id": "b358d547-b21d-4134-8b5d-7372f3de54bf",
   "metadata": {},
   "outputs": [
    {
     "data": {
      "text/plain": [
       "class_webDevelopment\n",
       "No     32\n",
       "Yes    16\n",
       "Name: count, dtype: int64"
      ]
     },
     "execution_count": 122,
     "metadata": {},
     "output_type": "execute_result"
    }
   ],
   "source": [
    "interest[\"class_webDevelopment\"].value_counts()"
   ]
  },
  {
   "cell_type": "code",
   "execution_count": 123,
   "id": "2274d2c2-63d7-48f2-af3e-7f34a4443192",
   "metadata": {},
   "outputs": [
    {
     "data": {
      "text/plain": [
       "class_dataAnalytics\n",
       "No     33\n",
       "Yes    15\n",
       "Name: count, dtype: int64"
      ]
     },
     "execution_count": 123,
     "metadata": {},
     "output_type": "execute_result"
    }
   ],
   "source": [
    "interest[\"class_dataAnalytics\"].value_counts()"
   ]
  },
  {
   "cell_type": "code",
   "execution_count": 124,
   "id": "17ded439-8e84-4c85-872b-109bde6bac05",
   "metadata": {},
   "outputs": [
    {
     "data": {
      "text/plain": [
       "class_AI\n",
       "No     26\n",
       "Yes    22\n",
       "Name: count, dtype: int64"
      ]
     },
     "execution_count": 124,
     "metadata": {},
     "output_type": "execute_result"
    }
   ],
   "source": [
    "interest[\"class_AI\"].value_counts()"
   ]
  },
  {
   "cell_type": "code",
   "execution_count": 125,
   "id": "1a717af3-2705-4d1c-b4a7-9e2fcd502583",
   "metadata": {},
   "outputs": [
    {
     "data": {
      "text/plain": [
       "class_programming\n",
       "No     30\n",
       "Yes    18\n",
       "Name: count, dtype: int64"
      ]
     },
     "execution_count": 125,
     "metadata": {},
     "output_type": "execute_result"
    }
   ],
   "source": [
    "interest[\"class_programming\"].value_counts()"
   ]
  },
  {
   "cell_type": "code",
   "execution_count": 126,
   "id": "b72793e7-3883-4851-8a5a-687667ea87c0",
   "metadata": {},
   "outputs": [
    {
     "data": {
      "text/plain": [
       "class_gameDesign\n",
       "No     26\n",
       "Yes    22\n",
       "Name: count, dtype: int64"
      ]
     },
     "execution_count": 126,
     "metadata": {},
     "output_type": "execute_result"
    }
   ],
   "source": [
    "interest[\"class_gameDesign\"].value_counts()"
   ]
  },
  {
   "cell_type": "code",
   "execution_count": 127,
   "id": "072433c2-1443-445a-885e-c147fe85cb07",
   "metadata": {},
   "outputs": [
    {
     "data": {
      "text/plain": [
       "class_hardware\n",
       "No     30\n",
       "Yes    18\n",
       "Name: count, dtype: int64"
      ]
     },
     "execution_count": 127,
     "metadata": {},
     "output_type": "execute_result"
    }
   ],
   "source": [
    "interest[\"class_hardware\"].value_counts()"
   ]
  },
  {
   "cell_type": "markdown",
   "id": "cd3f355b-26ce-4b82-a137-f7e5a3c253a8",
   "metadata": {},
   "source": [
    "Again, cybersecurity attracts the most interest but only marginally. Data analytics attracts the least. Similar to our first look, there isn't any one class that truly stands out amongst the rest, regargless of student interest.\n",
    "\n",
    "**Therefore, it appears that regardless of student interest in taking future computer classes, students tend to choose cybersecurity as the most interesting and data analytics as least. These differences, however, are only marginal and there is no clear cut winner where interest in one class is far greater than any other.**\n"
   ]
  },
  {
   "cell_type": "markdown",
   "id": "9fa9d7bd-19da-4519-a316-6b7ca92e4127",
   "metadata": {},
   "source": [
    "## IV. Conclusion "
   ]
  },
  {
   "cell_type": "markdown",
   "id": "0e016ef5-b6bd-49cb-bcc9-25e498ff750e",
   "metadata": {},
   "source": [
    "This project has sought to analyze the relationship between student demographics and a desire to take further computer courses in the future.\n",
    "\n",
    "It looked at how age, race/ethncity and gender varied by the various introductory computer courses available along with which of this courses seemed to retain the largest amount of student interest. It also examined the composition of student majors and how interest in computer courses varied among different fields of study. Lastly, it took a look at which computer related courses appeared to generate the most interest both amongst the students as a whole and among those that expressed a desire to take further courses in the future.\n",
    "\n",
    "The analysis yeielded both interesting and underwhelming results and could benefit from a quantification of the relationships examined above. In other words, it would be interesting to put a number on just how stong gender or the class a student is currently enrolled in predicts a future interest in computing courses. An ordinal logistic regression model or even just a logistic regression model where future interest is binned into a binary value  could be emplyed to quanitfy the predictive power of some of the variables mentioned above. \n"
   ]
  },
  {
   "cell_type": "markdown",
   "id": "8701843f-b497-4cec-94bd-910fd30618e8",
   "metadata": {},
   "source": [
    "## IV. Citations"
   ]
  },
  {
   "cell_type": "markdown",
   "id": "9194b34f-0ce0-43ff-b261-ea012f341253",
   "metadata": {},
   "source": [
    "Deitel, Paul J., and Harvey M. Deitel. Intro to Python for Computer Science and Data Science: Learning to Program with AI, Big Data and the Cloud. Pearson, 2020. \n",
    "\n",
    "Lee, Wei-Meng. Python Machine Learning. Wiley, 2019. \n",
    "\n",
    "Lerner, Reuven, director. Finding Text Patterns in Pandas with Regular Expressions. Python and Pandas with Reuven Lerner, https://www.youtube.com/watch?v=hiJDlvKDy0o  "
   ]
  }
 ],
 "metadata": {
  "kernelspec": {
   "display_name": "Python [conda env:base] *",
   "language": "python",
   "name": "conda-base-py"
  },
  "language_info": {
   "codemirror_mode": {
    "name": "ipython",
    "version": 3
   },
   "file_extension": ".py",
   "mimetype": "text/x-python",
   "name": "python",
   "nbconvert_exporter": "python",
   "pygments_lexer": "ipython3",
   "version": "3.13.5"
  }
 },
 "nbformat": 4,
 "nbformat_minor": 5
}
